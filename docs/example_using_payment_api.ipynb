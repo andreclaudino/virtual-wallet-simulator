{
 "cells": [
  {
   "cell_type": "markdown",
   "metadata": {
    "ExecuteTime": {
     "end_time": "2017-08-29T19:15:09.346355Z",
     "start_time": "2017-08-29T19:15:09.341539Z"
    }
   },
   "source": [
    "# Stone Payment API example"
   ]
  },
  {
   "cell_type": "markdown",
   "metadata": {},
   "source": [
    "## Configuration\n",
    "\n",
    "This notebook is an example of how using stone payment api generated in https://slack-files.com/T06M9ENDT-F5XK4J0P2-532510c5c0\n",
    "\n",
    "first step is to configure API parameters, in this case, the URL which will be used. For a local API it will be http://0.0.0.0:8080/"
   ]
  },
  {
   "cell_type": "code",
   "execution_count": 1,
   "metadata": {
    "ExecuteTime": {
     "end_time": "2017-08-29T22:57:59.800274Z",
     "start_time": "2017-08-29T22:57:59.796869Z"
    },
    "collapsed": true
   },
   "outputs": [],
   "source": [
    "url = 'http://0.0.0.0:8080/'\n",
    "api = lambda s: url+s"
   ]
  },
  {
   "cell_type": "markdown",
   "metadata": {},
   "source": [
    "## Importing necessary libraries"
   ]
  },
  {
   "cell_type": "code",
   "execution_count": 2,
   "metadata": {
    "ExecuteTime": {
     "end_time": "2017-08-29T22:57:59.919664Z",
     "start_time": "2017-08-29T22:57:59.842690Z"
    }
   },
   "outputs": [],
   "source": [
    "import requests as req\n",
    "import json\n",
    "from datetime import datetime"
   ]
  },
  {
   "cell_type": "markdown",
   "metadata": {},
   "source": [
    "## Creating user and get token\n",
    "\n",
    "Before anything, we need to create an user than get token for access"
   ]
  },
  {
   "cell_type": "code",
   "execution_count": 3,
   "metadata": {
    "ExecuteTime": {
     "end_time": "2017-08-29T22:57:59.924314Z",
     "start_time": "2017-08-29T22:57:59.921391Z"
    }
   },
   "outputs": [],
   "source": [
    "user_arguments = {\n",
    "    'name':\"Darth Vader\",\n",
    "    'username':\"dvader\",\n",
    "    'address':\"290, Death Star\",\n",
    "    'phone_number':'+55 21 2265-9865',\n",
    "    'mail_address':'vader@black_side.com',\n",
    "    'password':'h@rd_p4ss'}"
   ]
  },
  {
   "cell_type": "code",
   "execution_count": 4,
   "metadata": {
    "ExecuteTime": {
     "end_time": "2017-08-29T22:58:00.007660Z",
     "start_time": "2017-08-29T22:57:59.926348Z"
    }
   },
   "outputs": [
    {
     "name": "stdout",
     "output_type": "stream",
     "text": [
      "{'active': True, 'username': 'dvader', 'wid': 'ac263724cef1492f947fe819df6166f6', 'name': 'Darth Vader', 'uid': 'bf0249caa27f4da8bd2e73496b3e7308', 'mail_address': 'vader@black_side.com'}\n"
     ]
    }
   ],
   "source": [
    "r = req.post(api('user'), data=user_arguments)\n",
    "user = r.json()\n",
    "print(user)"
   ]
  },
  {
   "cell_type": "markdown",
   "metadata": {
    "ExecuteTime": {
     "end_time": "2017-08-29T21:04:44.368777Z",
     "start_time": "2017-08-29T21:04:44.335861Z"
    }
   },
   "source": [
    "once user is created, next step is getting token, this is done with login"
   ]
  },
  {
   "cell_type": "code",
   "execution_count": 5,
   "metadata": {
    "ExecuteTime": {
     "end_time": "2017-08-29T22:58:00.022333Z",
     "start_time": "2017-08-29T22:58:00.009324Z"
    }
   },
   "outputs": [],
   "source": [
    "r = req.post(api('login'),\n",
    "             data=dict(username=user_arguments['username'], password=user_arguments['password']))\n",
    "result = r.json()"
   ]
  },
  {
   "cell_type": "markdown",
   "metadata": {
    "ExecuteTime": {
     "end_time": "2017-08-29T21:12:19.124128Z",
     "start_time": "2017-08-29T21:12:19.116899Z"
    }
   },
   "source": [
    "login return user and token, it is:"
   ]
  },
  {
   "cell_type": "code",
   "execution_count": 6,
   "metadata": {
    "ExecuteTime": {
     "end_time": "2017-08-29T22:58:00.033496Z",
     "start_time": "2017-08-29T22:58:00.030757Z"
    }
   },
   "outputs": [
    {
     "name": "stdout",
     "output_type": "stream",
     "text": [
      "{'active': True, 'username': 'dvader', 'wid': 'ac263724cef1492f947fe819df6166f6', 'name': 'Darth Vader', 'uid': 'bf0249caa27f4da8bd2e73496b3e7308', 'mail_address': 'vader@black_side.com'}\n"
     ]
    }
   ],
   "source": [
    "print(result['user'])"
   ]
  },
  {
   "cell_type": "markdown",
   "metadata": {},
   "source": [
    "User object contains the fields send in user creation, and the following ones:\n",
    "\n",
    "*  wid: user wallet uuid\n",
    "*  uid: user uuid\n",
    "*  active: boolean defining when user can login or not"
   ]
  },
  {
   "cell_type": "code",
   "execution_count": 7,
   "metadata": {
    "ExecuteTime": {
     "end_time": "2017-08-29T22:58:00.099972Z",
     "start_time": "2017-08-29T22:58:00.096659Z"
    }
   },
   "outputs": [
    {
     "name": "stdout",
     "output_type": "stream",
     "text": [
      "eyJleHAiOjE1MDQwNTEwODAsImFsZyI6IkhTMjU2IiwiaWF0IjoxNTA0MDQ3NDgwfQ.WyJkdmFkZXIiLCJiZjAyNDljYWEyN2Y0ZGE4YmQyZTczNDk2YjNlNzMwOCIsImFjMjYzNzI0Y2VmMTQ5MmY5NDdmZTgxOWRmNjE2NmY2Il0.RPfsotB_v4uCdPiyU4R1j1kCZ6N_v2mQJK25LsVOeHA\n"
     ]
    }
   ],
   "source": [
    "token = result['token']\n",
    "print(token)"
   ]
  },
  {
   "cell_type": "markdown",
   "metadata": {},
   "source": [
    "token is a cryptographed list with user uid, wallet uid and username. The necessary to perform operations in user and wallet endpoints. Except login and creation, other endpoint calls need token in a header called token."
   ]
  },
  {
   "cell_type": "markdown",
   "metadata": {},
   "source": [
    "## Get wallet information\n",
    "\n",
    "Once we have token, we can get wallet information.\n",
    "\n",
    "For next uses, I will define a default headers dictionary:"
   ]
  },
  {
   "cell_type": "code",
   "execution_count": 8,
   "metadata": {
    "ExecuteTime": {
     "end_time": "2017-08-29T22:58:00.259926Z",
     "start_time": "2017-08-29T22:58:00.257047Z"
    },
    "collapsed": true
   },
   "outputs": [],
   "source": [
    "headers = {'token': token}"
   ]
  },
  {
   "cell_type": "code",
   "execution_count": 9,
   "metadata": {
    "ExecuteTime": {
     "end_time": "2017-08-29T22:58:00.290935Z",
     "start_time": "2017-08-29T22:58:00.265602Z"
    },
    "collapsed": true
   },
   "outputs": [],
   "source": [
    "r = req.get(api('wallet'), headers=headers)\n",
    "wallet = r.json()"
   ]
  },
  {
   "cell_type": "code",
   "execution_count": 10,
   "metadata": {
    "ExecuteTime": {
     "end_time": "2017-08-29T22:58:00.295322Z",
     "start_time": "2017-08-29T22:58:00.292463Z"
    }
   },
   "outputs": [
    {
     "name": "stdout",
     "output_type": "stream",
     "text": [
      "{'total_used': 0.0, 'free_limit': 0.0, 'max_limit': 0.0, 'real_free_limit': 0.0, 'total_cards': 0, 'real_limit': 0.0}\n"
     ]
    }
   ],
   "source": [
    "print(wallet)"
   ]
  },
  {
   "cell_type": "markdown",
   "metadata": {},
   "source": [
    "Wallet has following properties:\n",
    "*  max_limit: maximum limit (summing all cards limits)\n",
    "*  total_used: total used credit in wallet\n",
    "*  real_limit: the real limit imposed by the user\n",
    "*  free_limit: limit that can be used, considered maximum limit of card\n",
    "*  real_free_limit: free limit considering the real limit\n",
    "*  total_cards: Total number of cards"
   ]
  },
  {
   "cell_type": "markdown",
   "metadata": {},
   "source": [
    "## Add card to wallet\n",
    "\n",
    "To increase wallet limit we will include some cards in it:"
   ]
  },
  {
   "cell_type": "code",
   "execution_count": 11,
   "metadata": {
    "ExecuteTime": {
     "end_time": "2017-08-29T22:58:00.581800Z",
     "start_time": "2017-08-29T22:58:00.491438Z"
    }
   },
   "outputs": [
    {
     "name": "stdout",
     "output_type": "stream",
     "text": [
      "{'due_date': 'Wed, 13 Sep 2017 00:00:00 GMT', 'free_limit': 500.0, 'max_limit': 500.0, 'active': True, 'expiration_date': 'Tue, 12 Jun 2068 00:00:00 GMT', 'uid': '280e3abd60a748ed8f0d75d060397ad9'}\n"
     ]
    }
   ],
   "source": [
    "card0_arguments = dict(number='378282246310005',\n",
    "                      due_day=13,\n",
    "                      expiration_date='06/12/2068',\n",
    "                      cvv='987',\n",
    "                      max_limit=500.0)\n",
    "r = req.post(api('wallet/cards'), data=card0_arguments, headers=headers)\n",
    "card0 = r.json()\n",
    "print(card0)"
   ]
  },
  {
   "cell_type": "markdown",
   "metadata": {
    "ExecuteTime": {
     "end_time": "2017-08-29T21:35:33.822456Z",
     "start_time": "2017-08-29T21:35:33.817634Z"
    }
   },
   "source": [
    "based on already seen, card attributes are very clear. Sensible data like number and cvv are not got back."
   ]
  },
  {
   "cell_type": "markdown",
   "metadata": {},
   "source": [
    "Once we add a card, wallet limits are different:"
   ]
  },
  {
   "cell_type": "code",
   "execution_count": 12,
   "metadata": {
    "ExecuteTime": {
     "end_time": "2017-08-29T22:58:00.640291Z",
     "start_time": "2017-08-29T22:58:00.630467Z"
    }
   },
   "outputs": [
    {
     "name": "stdout",
     "output_type": "stream",
     "text": [
      "{'total_used': 0.0, 'free_limit': 500.0, 'max_limit': 500.0, 'real_free_limit': 500.0, 'total_cards': 1, 'real_limit': 500.0}\n"
     ]
    }
   ],
   "source": [
    "r = req.get(api('wallet'), headers=headers)\n",
    "wallet = r.json()\n",
    "print(wallet)"
   ]
  },
  {
   "cell_type": "markdown",
   "metadata": {},
   "source": [
    "### Adding more cards"
   ]
  },
  {
   "cell_type": "markdown",
   "metadata": {},
   "source": [
    "As expected, wallet limits was increased by cards limit. Adding another card will produce an expected result:"
   ]
  },
  {
   "cell_type": "code",
   "execution_count": 13,
   "metadata": {
    "ExecuteTime": {
     "end_time": "2017-08-29T22:58:00.798855Z",
     "start_time": "2017-08-29T22:58:00.741275Z"
    }
   },
   "outputs": [
    {
     "name": "stdout",
     "output_type": "stream",
     "text": [
      "{'due_date': 'Wed, 13 Sep 2017 00:00:00 GMT', 'free_limit': 550.0, 'max_limit': 550.0, 'active': True, 'expiration_date': 'Thu, 16 Nov 2028 00:00:00 GMT', 'uid': '370646ebe5424eac801e2d32d4557bfe'}\n"
     ]
    }
   ],
   "source": [
    "card1_arguments = dict(number='5078601870000127985',\n",
    "                      due_day=13,\n",
    "                      expiration_date='11/16/2028',\n",
    "                      cvv='335',\n",
    "                      max_limit=550.0)\n",
    "r = req.post(api('wallet/cards'), data=card1_arguments, headers=headers)\n",
    "card1 = r.json()\n",
    "print(card1)"
   ]
  },
  {
   "cell_type": "code",
   "execution_count": 14,
   "metadata": {
    "ExecuteTime": {
     "end_time": "2017-08-29T22:58:00.856780Z",
     "start_time": "2017-08-29T22:58:00.800233Z"
    }
   },
   "outputs": [
    {
     "name": "stdout",
     "output_type": "stream",
     "text": [
      "{'due_date': 'Wed, 13 Sep 2017 00:00:00 GMT', 'free_limit': 2000.0, 'max_limit': 2000.0, 'active': True, 'expiration_date': 'Fri, 20 Jan 2040 00:00:00 GMT', 'uid': 'b0fb8906d271465889904e7bbebfa701'}\n"
     ]
    }
   ],
   "source": [
    "card2_arguments = dict(number='30569309025904',\n",
    "                      due_day=13,\n",
    "                      expiration_date='01/20/2040',\n",
    "                      cvv='654',\n",
    "                      max_limit=2000.0)\n",
    "r = req.post(api('wallet/cards'), data=card2_arguments, headers=headers)\n",
    "card2 = r.json()\n",
    "print(card2)"
   ]
  },
  {
   "cell_type": "code",
   "execution_count": 15,
   "metadata": {
    "ExecuteTime": {
     "end_time": "2017-08-29T22:58:00.915585Z",
     "start_time": "2017-08-29T22:58:00.858729Z"
    }
   },
   "outputs": [
    {
     "name": "stdout",
     "output_type": "stream",
     "text": [
      "{'due_date': 'Wed, 20 Sep 2017 00:00:00 GMT', 'free_limit': 1000.0, 'max_limit': 1000.0, 'active': True, 'expiration_date': 'Tue, 20 Jan 2060 00:00:00 GMT', 'uid': 'cac2172430424323b66d526622417e0f'}\n"
     ]
    }
   ],
   "source": [
    "card3_arguments = dict(number='6011111111111117',\n",
    "                      due_day=20,\n",
    "                      expiration_date='01/20/2060',\n",
    "                      cvv='365',\n",
    "                      max_limit=1000.0)\n",
    "r = req.post(api('wallet/cards'), data=card3_arguments, headers=headers)\n",
    "card3 = r.json()\n",
    "print(card3)"
   ]
  },
  {
   "cell_type": "code",
   "execution_count": 16,
   "metadata": {
    "ExecuteTime": {
     "end_time": "2017-08-29T22:58:00.978259Z",
     "start_time": "2017-08-29T22:58:00.917239Z"
    }
   },
   "outputs": [
    {
     "name": "stdout",
     "output_type": "stream",
     "text": [
      "{'due_date': 'Sun, 03 Sep 2017 00:00:00 GMT', 'free_limit': 1000.0, 'max_limit': 1000.0, 'active': True, 'expiration_date': 'Fri, 05 Jan 2080 00:00:00 GMT', 'uid': 'f7ae1b43d9144283bf738515bac2c5ab'}\n"
     ]
    }
   ],
   "source": [
    "card4_arguments = dict(number='6062825624254001',\n",
    "                      due_day=3,\n",
    "                      expiration_date='01/05/2080',\n",
    "                      cvv='563',\n",
    "                      max_limit=1000.0)\n",
    "r = req.post(api('wallet/cards'), data=card4_arguments, headers=headers)\n",
    "card4 = r.json()\n",
    "print(card4)"
   ]
  },
  {
   "cell_type": "code",
   "execution_count": 17,
   "metadata": {
    "ExecuteTime": {
     "end_time": "2017-08-29T22:58:01.044993Z",
     "start_time": "2017-08-29T22:58:00.979749Z"
    }
   },
   "outputs": [
    {
     "name": "stdout",
     "output_type": "stream",
     "text": [
      "{'due_date': 'Mon, 25 Sep 2017 00:00:00 GMT', 'free_limit': 100.0, 'max_limit': 100.0, 'active': True, 'expiration_date': 'Fri, 05 Jan 2080 00:00:00 GMT', 'uid': 'ef4a5093f7c34148aa75e5880c67efc0'}\n"
     ]
    }
   ],
   "source": [
    "card5_arguments = dict(number='6062825624254001',\n",
    "                      due_day=25,\n",
    "                      expiration_date='01/05/2080',\n",
    "                      cvv='563',\n",
    "                      max_limit=100.0)\n",
    "r = req.post(api('wallet/cards'), data=card5_arguments, headers=headers)\n",
    "card5 = r.json()\n",
    "print(card5)"
   ]
  },
  {
   "cell_type": "markdown",
   "metadata": {
    "heading_collapsed": true
   },
   "source": [
    "### New wallet limits\n",
    "\n",
    "After addind these cards, we could take a look at wallet limits and make more analysis:"
   ]
  },
  {
   "cell_type": "code",
   "execution_count": 18,
   "metadata": {
    "ExecuteTime": {
     "end_time": "2017-08-29T22:58:01.057260Z",
     "start_time": "2017-08-29T22:58:01.046616Z"
    },
    "hidden": true
   },
   "outputs": [
    {
     "name": "stdout",
     "output_type": "stream",
     "text": [
      "{'total_used': 0.0, 'free_limit': 5150.0, 'max_limit': 5150.0, 'real_free_limit': 5150.0, 'total_cards': 6, 'real_limit': 5150.0}\n"
     ]
    }
   ],
   "source": [
    "r = req.get(api('wallet'), headers=headers)\n",
    "wallet = r.json()\n",
    "print(wallet)"
   ]
  },
  {
   "cell_type": "markdown",
   "metadata": {
    "hidden": true
   },
   "source": [
    "As expected, wallet limit is the sum of all cards.\n",
    "\n",
    "Now we can change wallet real limit:"
   ]
  },
  {
   "cell_type": "code",
   "execution_count": 19,
   "metadata": {
    "ExecuteTime": {
     "end_time": "2017-08-29T22:58:01.077196Z",
     "start_time": "2017-08-29T22:58:01.058898Z"
    },
    "hidden": true
   },
   "outputs": [
    {
     "name": "stdout",
     "output_type": "stream",
     "text": [
      "{'total_used': 0.0, 'free_limit': 5150.0, 'max_limit': 5150.0, 'real_free_limit': 3000.0, 'total_cards': 6, 'real_limit': 3000.0}\n"
     ]
    }
   ],
   "source": [
    "r = req.put(api('wallet/real_limit/{}').format(3000.0), headers=headers)\n",
    "wallet = r.json()\n",
    "print(wallet)"
   ]
  },
  {
   "cell_type": "markdown",
   "metadata": {
    "hidden": true
   },
   "source": [
    "Now, *real_limit* and *real_free_limit* are set to 3000. We can make a new get request and confirm value is changed:"
   ]
  },
  {
   "cell_type": "code",
   "execution_count": 20,
   "metadata": {
    "ExecuteTime": {
     "end_time": "2017-08-29T22:58:01.087855Z",
     "start_time": "2017-08-29T22:58:01.078651Z"
    },
    "hidden": true
   },
   "outputs": [
    {
     "name": "stdout",
     "output_type": "stream",
     "text": [
      "{'total_used': 0.0, 'free_limit': 5150.0, 'max_limit': 5150.0, 'real_free_limit': 3000.0, 'total_cards': 6, 'real_limit': 3000.0}\n"
     ]
    }
   ],
   "source": [
    "r = req.get(api('wallet'), headers=headers)\n",
    "wallet = r.json()\n",
    "print(wallet)"
   ]
  },
  {
   "cell_type": "markdown",
   "metadata": {
    "hidden": true
   },
   "source": [
    "Now, we may add a new card:"
   ]
  },
  {
   "cell_type": "code",
   "execution_count": 21,
   "metadata": {
    "ExecuteTime": {
     "end_time": "2017-08-29T22:58:01.154410Z",
     "start_time": "2017-08-29T22:58:01.089159Z"
    },
    "hidden": true
   },
   "outputs": [
    {
     "name": "stdout",
     "output_type": "stream",
     "text": [
      "{'due_date': 'Tue, 05 Sep 2017 00:00:00 GMT', 'free_limit': 6000.0, 'max_limit': 6000.0, 'active': True, 'expiration_date': 'Wed, 03 May 2028 00:00:00 GMT', 'uid': '1b73852dde024a80b450aa71934785f5'}\n"
     ]
    }
   ],
   "source": [
    "card3_arguments = dict(number='6362970000457013',\n",
    "                      due_day=5,\n",
    "                      expiration_date='05/3/2028',\n",
    "                      cvv='449',\n",
    "                      max_limit=6000.0)\n",
    "r = req.post(api('wallet/cards'), data=card3_arguments, headers=headers)\n",
    "card3 = r.json()\n",
    "print(card3)"
   ]
  },
  {
   "cell_type": "markdown",
   "metadata": {
    "hidden": true
   },
   "source": [
    "After adding these card, we may analyse new wallet limits:"
   ]
  },
  {
   "cell_type": "code",
   "execution_count": 22,
   "metadata": {
    "ExecuteTime": {
     "end_time": "2017-08-29T22:58:01.165717Z",
     "start_time": "2017-08-29T22:58:01.156066Z"
    },
    "hidden": true
   },
   "outputs": [
    {
     "name": "stdout",
     "output_type": "stream",
     "text": [
      "{'total_used': 0.0, 'free_limit': 11150.0, 'max_limit': 11150.0, 'real_free_limit': 3000.0, 'total_cards': 7, 'real_limit': 3000.0}\n"
     ]
    }
   ],
   "source": [
    "r = req.get(api('wallet'), headers=headers)\n",
    "wallet = r.json()\n",
    "print(wallet)"
   ]
  },
  {
   "cell_type": "markdown",
   "metadata": {
    "hidden": true
   },
   "source": [
    "As expected, *max_limit* and *free_limit* were increased by card limit, but *real_limit* and *real_free_limit* are not changed anymore."
   ]
  },
  {
   "cell_type": "markdown",
   "metadata": {
    "hidden": true
   },
   "source": [
    "if we try changing *real_limit* to a value greater than *max_limit * we get an error:"
   ]
  },
  {
   "cell_type": "code",
   "execution_count": 23,
   "metadata": {
    "ExecuteTime": {
     "end_time": "2017-08-29T22:58:01.309419Z",
     "start_time": "2017-08-29T22:58:01.299906Z"
    },
    "hidden": true
   },
   "outputs": [
    {
     "name": "stdout",
     "output_type": "stream",
     "text": [
      "{'error': 'Real Limit exceeds maximum permited'}\n"
     ]
    }
   ],
   "source": [
    "r = req.put(api('wallet/real_limit/{}').format(12000.0), headers=headers)\n",
    "wallet = r.json()\n",
    "print(wallet)"
   ]
  },
  {
   "cell_type": "markdown",
   "metadata": {
    "hidden": true
   },
   "source": [
    "And *real_limit* keeps the same:"
   ]
  },
  {
   "cell_type": "code",
   "execution_count": 24,
   "metadata": {
    "ExecuteTime": {
     "end_time": "2017-08-29T22:58:01.396607Z",
     "start_time": "2017-08-29T22:58:01.386830Z"
    },
    "hidden": true
   },
   "outputs": [
    {
     "name": "stdout",
     "output_type": "stream",
     "text": [
      "{'total_used': 0.0, 'free_limit': 11150.0, 'max_limit': 11150.0, 'real_free_limit': 3000.0, 'total_cards': 7, 'real_limit': 3000.0}\n"
     ]
    }
   ],
   "source": [
    "r = req.get(api('wallet'), headers=headers)\n",
    "wallet = r.json()\n",
    "print(wallet)"
   ]
  },
  {
   "cell_type": "markdown",
   "metadata": {
    "heading_collapsed": true
   },
   "source": [
    "### Deactivating some cards\n",
    "\n",
    "We add cards, now, removing cards should reduce wallet limit:"
   ]
  },
  {
   "cell_type": "code",
   "execution_count": 25,
   "metadata": {
    "ExecuteTime": {
     "end_time": "2017-08-29T22:58:01.512059Z",
     "start_time": "2017-08-29T22:58:01.466423Z"
    },
    "hidden": true
   },
   "outputs": [
    {
     "name": "stdout",
     "output_type": "stream",
     "text": [
      "{'due_date': 'Tue, 05 Sep 2017 00:00:00 GMT', 'free_limit': 6000.0, 'max_limit': 6000.0, 'active': False, 'expiration_date': 'Wed, 03 May 2028 00:00:00 GMT', 'uid': '1b73852dde024a80b450aa71934785f5'}\n"
     ]
    }
   ],
   "source": [
    "r = req.delete(api('wallet/cards/{}').format(card3['uid']), headers=headers)\n",
    "card3 = r.json()\n",
    "print(card3)"
   ]
  },
  {
   "cell_type": "code",
   "execution_count": 26,
   "metadata": {
    "ExecuteTime": {
     "end_time": "2017-08-29T22:58:01.523133Z",
     "start_time": "2017-08-29T22:58:01.513486Z"
    },
    "hidden": true
   },
   "outputs": [
    {
     "name": "stdout",
     "output_type": "stream",
     "text": [
      "{'total_used': 0.0, 'free_limit': 5150.0, 'max_limit': 5150.0, 'real_free_limit': 3000.0, 'total_cards': 7, 'real_limit': 3000.0}\n"
     ]
    }
   ],
   "source": [
    "r = req.get(api('wallet'), headers=headers)\n",
    "wallet = r.json()\n",
    "print(wallet)"
   ]
  },
  {
   "cell_type": "markdown",
   "metadata": {
    "hidden": true
   },
   "source": [
    "*card2* has a limit of 2000:"
   ]
  },
  {
   "cell_type": "code",
   "execution_count": 27,
   "metadata": {
    "ExecuteTime": {
     "end_time": "2017-08-29T22:58:01.570580Z",
     "start_time": "2017-08-29T22:58:01.567873Z"
    },
    "hidden": true
   },
   "outputs": [
    {
     "name": "stdout",
     "output_type": "stream",
     "text": [
      "2000.0\n"
     ]
    }
   ],
   "source": [
    "print(card2['max_limit'])"
   ]
  },
  {
   "cell_type": "markdown",
   "metadata": {
    "hidden": true
   },
   "source": [
    "Removing card2 make wallet max_limit bigger than real limit, let's do that:"
   ]
  },
  {
   "cell_type": "code",
   "execution_count": 28,
   "metadata": {
    "ExecuteTime": {
     "end_time": "2017-08-29T22:58:01.699280Z",
     "start_time": "2017-08-29T22:58:01.656723Z"
    },
    "hidden": true
   },
   "outputs": [
    {
     "name": "stdout",
     "output_type": "stream",
     "text": [
      "{'due_date': 'Wed, 13 Sep 2017 00:00:00 GMT', 'free_limit': 2000.0, 'max_limit': 2000.0, 'active': False, 'expiration_date': 'Fri, 20 Jan 2040 00:00:00 GMT', 'uid': 'b0fb8906d271465889904e7bbebfa701'}\n"
     ]
    }
   ],
   "source": [
    "r = req.delete(api('wallet/cards/{}').format(card2['uid']), headers=headers)\n",
    "card2 = r.json()\n",
    "print(card2)"
   ]
  },
  {
   "cell_type": "code",
   "execution_count": 29,
   "metadata": {
    "ExecuteTime": {
     "end_time": "2017-08-29T22:58:01.711409Z",
     "start_time": "2017-08-29T22:58:01.701141Z"
    },
    "hidden": true
   },
   "outputs": [
    {
     "name": "stdout",
     "output_type": "stream",
     "text": [
      "{'total_used': 0.0, 'free_limit': 3150.0, 'max_limit': 3150.0, 'real_free_limit': 3000.0, 'total_cards': 7, 'real_limit': 3000.0}\n"
     ]
    }
   ],
   "source": [
    "r = req.get(api('wallet'), headers=headers)\n",
    "wallet = r.json()\n",
    "print(wallet)"
   ]
  },
  {
   "cell_type": "markdown",
   "metadata": {
    "hidden": true
   },
   "source": [
    "Now, wallet's free_limit was reduced, once it cannot be the value it was before."
   ]
  },
  {
   "cell_type": "markdown",
   "metadata": {},
   "source": [
    "## Purchasing\n",
    "\n",
    "Purchasing in a wallet should select best card/cards according to problem defined rules. Let's revisit cards limit again:"
   ]
  },
  {
   "cell_type": "code",
   "execution_count": 30,
   "metadata": {
    "ExecuteTime": {
     "end_time": "2017-08-29T22:58:01.875485Z",
     "start_time": "2017-08-29T22:58:01.862874Z"
    }
   },
   "outputs": [
    {
     "name": "stdout",
     "output_type": "stream",
     "text": [
      "{'cards': [{'due_date': 'Tue, 05 Sep 2017 00:00:00 GMT', 'free_limit': 6000.0, 'max_limit': 6000.0, 'active': False, 'expiration_date': 'Wed, 03 May 2028 00:00:00 GMT', 'uid': '1b73852dde024a80b450aa71934785f5'}, {'due_date': 'Mon, 25 Sep 2017 00:00:00 GMT', 'free_limit': 100.0, 'max_limit': 100.0, 'active': True, 'expiration_date': 'Fri, 05 Jan 2080 00:00:00 GMT', 'uid': 'ef4a5093f7c34148aa75e5880c67efc0'}, {'due_date': 'Sun, 03 Sep 2017 00:00:00 GMT', 'free_limit': 1000.0, 'max_limit': 1000.0, 'active': True, 'expiration_date': 'Fri, 05 Jan 2080 00:00:00 GMT', 'uid': 'f7ae1b43d9144283bf738515bac2c5ab'}, {'due_date': 'Wed, 20 Sep 2017 00:00:00 GMT', 'free_limit': 1000.0, 'max_limit': 1000.0, 'active': True, 'expiration_date': 'Tue, 20 Jan 2060 00:00:00 GMT', 'uid': 'cac2172430424323b66d526622417e0f'}, {'due_date': 'Wed, 13 Sep 2017 00:00:00 GMT', 'free_limit': 2000.0, 'max_limit': 2000.0, 'active': False, 'expiration_date': 'Fri, 20 Jan 2040 00:00:00 GMT', 'uid': 'b0fb8906d271465889904e7bbebfa701'}, {'due_date': 'Wed, 13 Sep 2017 00:00:00 GMT', 'free_limit': 550.0, 'max_limit': 550.0, 'active': True, 'expiration_date': 'Thu, 16 Nov 2028 00:00:00 GMT', 'uid': '370646ebe5424eac801e2d32d4557bfe'}, {'due_date': 'Wed, 13 Sep 2017 00:00:00 GMT', 'free_limit': 500.0, 'max_limit': 500.0, 'active': True, 'expiration_date': 'Tue, 12 Jun 2068 00:00:00 GMT', 'uid': '280e3abd60a748ed8f0d75d060397ad9'}], 'wid': 'ac263724cef1492f947fe819df6166f6'}\n"
     ]
    }
   ],
   "source": [
    "r = req.get(api('wallet/cards'), headers=headers)\n",
    "cards = r.json()\n",
    "print(cards)"
   ]
  },
  {
   "cell_type": "markdown",
   "metadata": {},
   "source": [
    "Here we have wallet wid and card list. We have to filter for active cards, because only then will be used in purchases. But there is a better solution, using cards already sorted and prepared for purhase:"
   ]
  },
  {
   "cell_type": "code",
   "execution_count": 31,
   "metadata": {
    "ExecuteTime": {
     "end_time": "2017-08-29T22:58:01.974390Z",
     "start_time": "2017-08-29T22:58:01.962418Z"
    },
    "run_control": {
     "marked": false
    }
   },
   "outputs": [
    {
     "name": "stdout",
     "output_type": "stream",
     "text": [
      "{'cards': [{'due_date': 'Mon, 25 Sep 2017 00:00:00 GMT', 'free_limit': 100.0, 'max_limit': 100.0, 'active': True, 'expiration_date': 'Fri, 05 Jan 2080 00:00:00 GMT', 'uid': 'ef4a5093f7c34148aa75e5880c67efc0'}, {'due_date': 'Wed, 20 Sep 2017 00:00:00 GMT', 'free_limit': 1000.0, 'max_limit': 1000.0, 'active': True, 'expiration_date': 'Tue, 20 Jan 2060 00:00:00 GMT', 'uid': 'cac2172430424323b66d526622417e0f'}, {'due_date': 'Wed, 13 Sep 2017 00:00:00 GMT', 'free_limit': 500.0, 'max_limit': 500.0, 'active': True, 'expiration_date': 'Tue, 12 Jun 2068 00:00:00 GMT', 'uid': '280e3abd60a748ed8f0d75d060397ad9'}, {'due_date': 'Wed, 13 Sep 2017 00:00:00 GMT', 'free_limit': 550.0, 'max_limit': 550.0, 'active': True, 'expiration_date': 'Thu, 16 Nov 2028 00:00:00 GMT', 'uid': '370646ebe5424eac801e2d32d4557bfe'}, {'due_date': 'Sun, 03 Sep 2017 00:00:00 GMT', 'free_limit': 1000.0, 'max_limit': 1000.0, 'active': True, 'expiration_date': 'Fri, 05 Jan 2080 00:00:00 GMT', 'uid': 'f7ae1b43d9144283bf738515bac2c5ab'}], 'wid': 'ac263724cef1492f947fe819df6166f6'}\n"
     ]
    }
   ],
   "source": [
    "r = req.get(api('wallet/cards/sorted'), headers=headers)\n",
    "cards = r.json()\n",
    "print(cards)"
   ]
  },
  {
   "cell_type": "markdown",
   "metadata": {
    "ExecuteTime": {
     "end_time": "2017-08-29T22:29:51.189942Z",
     "start_time": "2017-08-29T22:29:51.184258Z"
    }
   },
   "source": [
    "Next I will create a simple helper function to get cards and print their uid, max_limit, free_limit and due_date with some wallet summary:"
   ]
  },
  {
   "cell_type": "code",
   "execution_count": 32,
   "metadata": {
    "ExecuteTime": {
     "end_time": "2017-08-29T22:58:02.095782Z",
     "start_time": "2017-08-29T22:58:02.067996Z"
    }
   },
   "outputs": [],
   "source": [
    "def get_cards_status():\n",
    "    r = req.get(api('wallet'), headers=headers)\n",
    "    wallet = r.json()\n",
    "    \n",
    "    r = req.get(api('wallet/cards/sorted'), headers=headers)\n",
    "    cards = r.json()\n",
    "    \n",
    "    print('*'*50)\n",
    "    print('Wallet, ', datetime.today())\n",
    "    print('='*50)\n",
    "    print(\"real_limit: \", wallet['real_limit'])\n",
    "    print(\"free_limit: \", wallet['free_limit'])\n",
    "    print(\"real_free_limit: \", wallet['real_free_limit'])\n",
    "    print(\"total_cards: \", wallet['total_cards'])\n",
    "    print(\"total_used: \", wallet['total_used'])\n",
    "    print(\"max_limit: \", wallet['max_limit'])\n",
    "    \n",
    "    print('='*50)\n",
    "    print(\"Cards\")\n",
    "    print('='*50)\n",
    "    for card in cards['cards']:\n",
    "        print(card['uid'])\n",
    "        print('max_limit: ', card['max_limit'])\n",
    "        print('free_limit: ', card['free_limit'])\n",
    "        print('due_date: ', card['due_date'])\n",
    "        print('-'*50)"
   ]
  },
  {
   "cell_type": "code",
   "execution_count": 33,
   "metadata": {
    "ExecuteTime": {
     "end_time": "2017-08-29T22:58:02.127914Z",
     "start_time": "2017-08-29T22:58:02.097289Z"
    }
   },
   "outputs": [
    {
     "name": "stdout",
     "output_type": "stream",
     "text": [
      "**************************************************\n",
      "Wallet,  2017-08-29 19:58:02.123055\n",
      "==================================================\n",
      "real_limit:  3000.0\n",
      "free_limit:  3150.0\n",
      "real_free_limit:  3000.0\n",
      "total_cards:  7\n",
      "total_used:  0.0\n",
      "max_limit:  3150.0\n",
      "==================================================\n",
      "Cards\n",
      "==================================================\n",
      "ef4a5093f7c34148aa75e5880c67efc0\n",
      "max_limit:  100.0\n",
      "free_limit:  100.0\n",
      "due_date:  Mon, 25 Sep 2017 00:00:00 GMT\n",
      "--------------------------------------------------\n",
      "cac2172430424323b66d526622417e0f\n",
      "max_limit:  1000.0\n",
      "free_limit:  1000.0\n",
      "due_date:  Wed, 20 Sep 2017 00:00:00 GMT\n",
      "--------------------------------------------------\n",
      "280e3abd60a748ed8f0d75d060397ad9\n",
      "max_limit:  500.0\n",
      "free_limit:  500.0\n",
      "due_date:  Wed, 13 Sep 2017 00:00:00 GMT\n",
      "--------------------------------------------------\n",
      "370646ebe5424eac801e2d32d4557bfe\n",
      "max_limit:  550.0\n",
      "free_limit:  550.0\n",
      "due_date:  Wed, 13 Sep 2017 00:00:00 GMT\n",
      "--------------------------------------------------\n",
      "f7ae1b43d9144283bf738515bac2c5ab\n",
      "max_limit:  1000.0\n",
      "free_limit:  1000.0\n",
      "due_date:  Sun, 03 Sep 2017 00:00:00 GMT\n",
      "--------------------------------------------------\n"
     ]
    }
   ],
   "source": [
    "get_cards_status()"
   ]
  },
  {
   "cell_type": "markdown",
   "metadata": {},
   "source": [
    "Purchasing rules depends on how far card's due date is from today, it is, the card selection on purchase will vary day by day.\n",
    "\n",
    "In the momentt of writting, sorting is:\n",
    "\n",
    "```\n",
    "==================================================\n",
    "Cards\n",
    "==================================================\n",
    "ef4a5093f7c34148aa75e5880c67efc0\n",
    "max_limit:  100.0\n",
    "free_limit:  100.0\n",
    "due_date:  Mon, 25 Sep 2017 00:00:00 GMT\n",
    "--------------------------------------------------\n",
    "cac2172430424323b66d526622417e0f\n",
    "max_limit:  1000.0\n",
    "free_limit:  1000.0\n",
    "due_date:  Wed, 20 Sep 2017 00:00:00 GMT\n",
    "--------------------------------------------------\n",
    "280e3abd60a748ed8f0d75d060397ad9\n",
    "max_limit:  500.0\n",
    "free_limit:  500.0\n",
    "due_date:  Wed, 13 Sep 2017 00:00:00 GMT\n",
    "--------------------------------------------------\n",
    "370646ebe5424eac801e2d32d4557bfe\n",
    "max_limit:  550.0\n",
    "free_limit:  550.0\n",
    "due_date:  Wed, 13 Sep 2017 00:00:00 GMT\n",
    "--------------------------------------------------\n",
    "f7ae1b43d9144283bf738515bac2c5ab\n",
    "max_limit:  1000.0\n",
    "free_limit:  1000.0\n",
    "due_date:  Sun, 03 Sep 2017 00:00:00 GMT\n",
    "--------------------------------------------------\n",
    "```"
   ]
  },
  {
   "cell_type": "markdown",
   "metadata": {},
   "source": [
    "THis way, first card is due_day 25 max_limit 100.0, if I do a Purchase of 50, it would use this card:"
   ]
  },
  {
   "cell_type": "code",
   "execution_count": 39,
   "metadata": {
    "ExecuteTime": {
     "end_time": "2017-08-29T23:02:49.435341Z",
     "start_time": "2017-08-29T23:02:49.234766Z"
    }
   },
   "outputs": [
    {
     "name": "stdout",
     "output_type": "stream",
     "text": [
      "{'total': 50.0, 'relations': {'date_time': 'Tue, 29 Aug 2017 23:02:49 GMT', 'value': 50.0, 'cid': 'ef4a5093f7c34148aa75e5880c67efc0'}, 'wid': 'ac263724cef1492f947fe819df6166f6'}\n"
     ]
    }
   ],
   "source": [
    "r = req.post(api('wallet/purchase'), data=dict(value=50), headers=headers)\n",
    "purchase = r.json()\n",
    "print(purchase)"
   ]
  },
  {
   "cell_type": "markdown",
   "metadata": {},
   "source": [
    "This is a purchase object. The **cid** parameter is the *c*ard u*id*, following same convention used for *w*allet u*id*. We can see by cid that the card used for purchase is the one expected."
   ]
  },
  {
   "cell_type": "code",
   "execution_count": 40,
   "metadata": {
    "ExecuteTime": {
     "end_time": "2017-08-29T23:04:59.141418Z",
     "start_time": "2017-08-29T23:04:59.109123Z"
    }
   },
   "outputs": [
    {
     "name": "stdout",
     "output_type": "stream",
     "text": [
      "**************************************************\n",
      "Wallet,  2017-08-29 20:04:59.136030\n",
      "==================================================\n",
      "real_limit:  3000.0\n",
      "free_limit:  3100.0\n",
      "real_free_limit:  2950.0\n",
      "total_cards:  7\n",
      "total_used:  50.0\n",
      "max_limit:  3150.0\n",
      "==================================================\n",
      "Cards\n",
      "==================================================\n",
      "ef4a5093f7c34148aa75e5880c67efc0\n",
      "max_limit:  100.0\n",
      "free_limit:  50.0\n",
      "due_date:  Mon, 25 Sep 2017 00:00:00 GMT\n",
      "--------------------------------------------------\n",
      "cac2172430424323b66d526622417e0f\n",
      "max_limit:  1000.0\n",
      "free_limit:  1000.0\n",
      "due_date:  Wed, 20 Sep 2017 00:00:00 GMT\n",
      "--------------------------------------------------\n",
      "280e3abd60a748ed8f0d75d060397ad9\n",
      "max_limit:  500.0\n",
      "free_limit:  500.0\n",
      "due_date:  Wed, 13 Sep 2017 00:00:00 GMT\n",
      "--------------------------------------------------\n",
      "370646ebe5424eac801e2d32d4557bfe\n",
      "max_limit:  550.0\n",
      "free_limit:  550.0\n",
      "due_date:  Wed, 13 Sep 2017 00:00:00 GMT\n",
      "--------------------------------------------------\n",
      "f7ae1b43d9144283bf738515bac2c5ab\n",
      "max_limit:  1000.0\n",
      "free_limit:  1000.0\n",
      "due_date:  Sun, 03 Sep 2017 00:00:00 GMT\n",
      "--------------------------------------------------\n"
     ]
    }
   ],
   "source": [
    "get_cards_status()"
   ]
  },
  {
   "cell_type": "markdown",
   "metadata": {},
   "source": [
    "As expected, wallet and selected card free limits are changed according to value purchased.\n",
    "Now, a new purchase which cannot be done in first card will be done in second one:"
   ]
  },
  {
   "cell_type": "code",
   "execution_count": 41,
   "metadata": {
    "ExecuteTime": {
     "end_time": "2017-08-29T23:07:29.118258Z",
     "start_time": "2017-08-29T23:07:29.020285Z"
    }
   },
   "outputs": [
    {
     "name": "stdout",
     "output_type": "stream",
     "text": [
      "{'total': 500.0, 'relations': {'date_time': 'Tue, 29 Aug 2017 23:07:29 GMT', 'value': 500.0, 'cid': 'cac2172430424323b66d526622417e0f'}, 'wid': 'ac263724cef1492f947fe819df6166f6'}\n"
     ]
    }
   ],
   "source": [
    "r = req.post(api('wallet/purchase'), data=dict(value=500), headers=headers)\n",
    "purchase = r.json()\n",
    "print(purchase)"
   ]
  },
  {
   "cell_type": "code",
   "execution_count": 42,
   "metadata": {
    "ExecuteTime": {
     "end_time": "2017-08-29T23:07:51.215718Z",
     "start_time": "2017-08-29T23:07:51.176653Z"
    }
   },
   "outputs": [
    {
     "name": "stdout",
     "output_type": "stream",
     "text": [
      "**************************************************\n",
      "Wallet,  2017-08-29 20:07:51.210303\n",
      "==================================================\n",
      "real_limit:  3000.0\n",
      "free_limit:  2600.0\n",
      "real_free_limit:  2450.0\n",
      "total_cards:  7\n",
      "total_used:  550.0\n",
      "max_limit:  3150.0\n",
      "==================================================\n",
      "Cards\n",
      "==================================================\n",
      "ef4a5093f7c34148aa75e5880c67efc0\n",
      "max_limit:  100.0\n",
      "free_limit:  50.0\n",
      "due_date:  Mon, 25 Sep 2017 00:00:00 GMT\n",
      "--------------------------------------------------\n",
      "cac2172430424323b66d526622417e0f\n",
      "max_limit:  1000.0\n",
      "free_limit:  500.0\n",
      "due_date:  Wed, 20 Sep 2017 00:00:00 GMT\n",
      "--------------------------------------------------\n",
      "280e3abd60a748ed8f0d75d060397ad9\n",
      "max_limit:  500.0\n",
      "free_limit:  500.0\n",
      "due_date:  Wed, 13 Sep 2017 00:00:00 GMT\n",
      "--------------------------------------------------\n",
      "370646ebe5424eac801e2d32d4557bfe\n",
      "max_limit:  550.0\n",
      "free_limit:  550.0\n",
      "due_date:  Wed, 13 Sep 2017 00:00:00 GMT\n",
      "--------------------------------------------------\n",
      "f7ae1b43d9144283bf738515bac2c5ab\n",
      "max_limit:  1000.0\n",
      "free_limit:  1000.0\n",
      "due_date:  Sun, 03 Sep 2017 00:00:00 GMT\n",
      "--------------------------------------------------\n"
     ]
    }
   ],
   "source": [
    "get_cards_status()"
   ]
  },
  {
   "cell_type": "markdown",
   "metadata": {},
   "source": [
    "Now, a purchase of 1100 can't be done in only one card, it will be distributed in may cards respecting sorting order:"
   ]
  },
  {
   "cell_type": "code",
   "execution_count": 43,
   "metadata": {
    "ExecuteTime": {
     "end_time": "2017-08-29T23:10:49.829524Z",
     "start_time": "2017-08-29T23:10:49.569968Z"
    }
   },
   "outputs": [
    {
     "name": "stdout",
     "output_type": "stream",
     "text": [
      "{'total': 1100.0, 'relations': {'date_time': 'Tue, 29 Aug 2017 23:10:49 GMT', 'value': 50.0, 'cid': 'ef4a5093f7c34148aa75e5880c67efc0'}, 'wid': 'ac263724cef1492f947fe819df6166f6'}\n"
     ]
    }
   ],
   "source": [
    "r = req.post(api('wallet/purchase'), data=dict(value=1100), headers=headers)\n",
    "purchase = r.json()\n",
    "print(purchase)"
   ]
  },
  {
   "cell_type": "code",
   "execution_count": 44,
   "metadata": {
    "ExecuteTime": {
     "end_time": "2017-08-29T23:10:56.058361Z",
     "start_time": "2017-08-29T23:10:56.033180Z"
    }
   },
   "outputs": [
    {
     "name": "stdout",
     "output_type": "stream",
     "text": [
      "**************************************************\n",
      "Wallet,  2017-08-29 20:10:56.053262\n",
      "==================================================\n",
      "real_limit:  3000.0\n",
      "free_limit:  1500.0\n",
      "real_free_limit:  1350.0\n",
      "total_cards:  7\n",
      "total_used:  1650.0\n",
      "max_limit:  3150.0\n",
      "==================================================\n",
      "Cards\n",
      "==================================================\n",
      "ef4a5093f7c34148aa75e5880c67efc0\n",
      "max_limit:  100.0\n",
      "free_limit:  0.0\n",
      "due_date:  Mon, 25 Sep 2017 00:00:00 GMT\n",
      "--------------------------------------------------\n",
      "cac2172430424323b66d526622417e0f\n",
      "max_limit:  1000.0\n",
      "free_limit:  0.0\n",
      "due_date:  Wed, 20 Sep 2017 00:00:00 GMT\n",
      "--------------------------------------------------\n",
      "280e3abd60a748ed8f0d75d060397ad9\n",
      "max_limit:  500.0\n",
      "free_limit:  0.0\n",
      "due_date:  Wed, 13 Sep 2017 00:00:00 GMT\n",
      "--------------------------------------------------\n",
      "370646ebe5424eac801e2d32d4557bfe\n",
      "max_limit:  550.0\n",
      "free_limit:  500.0\n",
      "due_date:  Wed, 13 Sep 2017 00:00:00 GMT\n",
      "--------------------------------------------------\n",
      "f7ae1b43d9144283bf738515bac2c5ab\n",
      "max_limit:  1000.0\n",
      "free_limit:  1000.0\n",
      "due_date:  Sun, 03 Sep 2017 00:00:00 GMT\n",
      "--------------------------------------------------\n"
     ]
    }
   ],
   "source": [
    "get_cards_status()"
   ]
  },
  {
   "cell_type": "markdown",
   "metadata": {},
   "source": [
    "A purchase of 12000 will not be processed because exceeds wallet limit. It should return an error:"
   ]
  },
  {
   "cell_type": "code",
   "execution_count": 45,
   "metadata": {
    "ExecuteTime": {
     "end_time": "2017-08-29T23:14:06.658846Z",
     "start_time": "2017-08-29T23:14:06.632951Z"
    }
   },
   "outputs": [
    {
     "name": "stdout",
     "output_type": "stream",
     "text": [
      "{'error': 'Real limit exceed'}\n"
     ]
    }
   ],
   "source": [
    "r = req.post(api('wallet/purchase'), data=dict(value=12000), headers=headers)\n",
    "purchase = r.json()\n",
    "print(purchase)"
   ]
  },
  {
   "cell_type": "markdown",
   "metadata": {
    "ExecuteTime": {
     "end_time": "2017-08-29T23:14:27.861207Z",
     "start_time": "2017-08-29T23:14:27.852074Z"
    }
   },
   "source": [
    "And limits are kept the same:"
   ]
  },
  {
   "cell_type": "code",
   "execution_count": 48,
   "metadata": {
    "ExecuteTime": {
     "end_time": "2017-08-29T23:15:03.967458Z",
     "start_time": "2017-08-29T23:15:03.941955Z"
    }
   },
   "outputs": [
    {
     "name": "stdout",
     "output_type": "stream",
     "text": [
      "**************************************************\n",
      "Wallet,  2017-08-29 20:15:03.959828\n",
      "==================================================\n",
      "real_limit:  3000.0\n",
      "free_limit:  1500.0\n",
      "real_free_limit:  1350.0\n",
      "total_cards:  7\n",
      "total_used:  1650.0\n",
      "max_limit:  3150.0\n",
      "==================================================\n",
      "Cards\n",
      "==================================================\n",
      "ef4a5093f7c34148aa75e5880c67efc0\n",
      "max_limit:  100.0\n",
      "free_limit:  0.0\n",
      "due_date:  Mon, 25 Sep 2017 00:00:00 GMT\n",
      "--------------------------------------------------\n",
      "cac2172430424323b66d526622417e0f\n",
      "max_limit:  1000.0\n",
      "free_limit:  0.0\n",
      "due_date:  Wed, 20 Sep 2017 00:00:00 GMT\n",
      "--------------------------------------------------\n",
      "280e3abd60a748ed8f0d75d060397ad9\n",
      "max_limit:  500.0\n",
      "free_limit:  0.0\n",
      "due_date:  Wed, 13 Sep 2017 00:00:00 GMT\n",
      "--------------------------------------------------\n",
      "370646ebe5424eac801e2d32d4557bfe\n",
      "max_limit:  550.0\n",
      "free_limit:  500.0\n",
      "due_date:  Wed, 13 Sep 2017 00:00:00 GMT\n",
      "--------------------------------------------------\n",
      "f7ae1b43d9144283bf738515bac2c5ab\n",
      "max_limit:  1000.0\n",
      "free_limit:  1000.0\n",
      "due_date:  Sun, 03 Sep 2017 00:00:00 GMT\n",
      "--------------------------------------------------\n"
     ]
    }
   ],
   "source": [
    "get_cards_status()"
   ]
  },
  {
   "cell_type": "markdown",
   "metadata": {},
   "source": [
    "## Paying\n",
    "\n",
    "We purchase with these cards, a good next step is releasing credit with payment. The rule for payment is: the user should select which card to pay, so, payment is not made for wallet, but for card, and don't folow the purchase rules:"
   ]
  },
  {
   "cell_type": "code",
   "execution_count": 52,
   "metadata": {
    "ExecuteTime": {
     "end_time": "2017-08-29T23:20:08.042823Z",
     "start_time": "2017-08-29T23:20:07.911340Z"
    }
   },
   "outputs": [
    {
     "name": "stdout",
     "output_type": "stream",
     "text": [
      "{'date_time': 'Tue, 29 Aug 2017 23:20:07 GMT', 'value': 90.0, 'cid': 'ef4a5093f7c34148aa75e5880c67efc0', 'wid': 'ac263724cef1492f947fe819df6166f6'}\n"
     ]
    }
   ],
   "source": [
    "r = req.post(api('wallet/cards/ef4a5093f7c34148aa75e5880c67efc0/pay'), data=dict(value=90.0), headers=headers)\n",
    "purchase = r.json()\n",
    "print(purchase)"
   ]
  },
  {
   "cell_type": "markdown",
   "metadata": {},
   "source": [
    "Now, first card has some credit released:"
   ]
  },
  {
   "cell_type": "code",
   "execution_count": 53,
   "metadata": {
    "ExecuteTime": {
     "end_time": "2017-08-29T23:20:31.065807Z",
     "start_time": "2017-08-29T23:20:31.038799Z"
    }
   },
   "outputs": [
    {
     "name": "stdout",
     "output_type": "stream",
     "text": [
      "**************************************************\n",
      "Wallet,  2017-08-29 20:20:31.058136\n",
      "==================================================\n",
      "real_limit:  3000.0\n",
      "free_limit:  1590.0\n",
      "real_free_limit:  1440.0\n",
      "total_cards:  7\n",
      "total_used:  1560.0\n",
      "max_limit:  3150.0\n",
      "==================================================\n",
      "Cards\n",
      "==================================================\n",
      "ef4a5093f7c34148aa75e5880c67efc0\n",
      "max_limit:  100.0\n",
      "free_limit:  90.0\n",
      "due_date:  Mon, 25 Sep 2017 00:00:00 GMT\n",
      "--------------------------------------------------\n",
      "cac2172430424323b66d526622417e0f\n",
      "max_limit:  1000.0\n",
      "free_limit:  0.0\n",
      "due_date:  Wed, 20 Sep 2017 00:00:00 GMT\n",
      "--------------------------------------------------\n",
      "280e3abd60a748ed8f0d75d060397ad9\n",
      "max_limit:  500.0\n",
      "free_limit:  0.0\n",
      "due_date:  Wed, 13 Sep 2017 00:00:00 GMT\n",
      "--------------------------------------------------\n",
      "370646ebe5424eac801e2d32d4557bfe\n",
      "max_limit:  550.0\n",
      "free_limit:  500.0\n",
      "due_date:  Wed, 13 Sep 2017 00:00:00 GMT\n",
      "--------------------------------------------------\n",
      "f7ae1b43d9144283bf738515bac2c5ab\n",
      "max_limit:  1000.0\n",
      "free_limit:  1000.0\n",
      "due_date:  Sun, 03 Sep 2017 00:00:00 GMT\n",
      "--------------------------------------------------\n"
     ]
    }
   ],
   "source": [
    "get_cards_status()"
   ]
  },
  {
   "cell_type": "code",
   "execution_count": 54,
   "metadata": {
    "ExecuteTime": {
     "end_time": "2017-08-29T23:21:26.871556Z",
     "start_time": "2017-08-29T23:21:26.770317Z"
    }
   },
   "outputs": [
    {
     "name": "stdout",
     "output_type": "stream",
     "text": [
      "{'date_time': 'Tue, 29 Aug 2017 23:21:26 GMT', 'value': 800.0, 'cid': 'cac2172430424323b66d526622417e0f', 'wid': 'ac263724cef1492f947fe819df6166f6'}\n"
     ]
    }
   ],
   "source": [
    "r = req.post(api('wallet/cards/cac2172430424323b66d526622417e0f/pay'), data=dict(value=800.0), headers=headers)\n",
    "purchase = r.json()\n",
    "print(purchase)"
   ]
  },
  {
   "cell_type": "code",
   "execution_count": 55,
   "metadata": {
    "ExecuteTime": {
     "end_time": "2017-08-29T23:21:46.378724Z",
     "start_time": "2017-08-29T23:21:46.337521Z"
    }
   },
   "outputs": [
    {
     "name": "stdout",
     "output_type": "stream",
     "text": [
      "**************************************************\n",
      "Wallet,  2017-08-29 20:21:46.370285\n",
      "==================================================\n",
      "real_limit:  3000.0\n",
      "free_limit:  2390.0\n",
      "real_free_limit:  2240.0\n",
      "total_cards:  7\n",
      "total_used:  760.0\n",
      "max_limit:  3150.0\n",
      "==================================================\n",
      "Cards\n",
      "==================================================\n",
      "ef4a5093f7c34148aa75e5880c67efc0\n",
      "max_limit:  100.0\n",
      "free_limit:  90.0\n",
      "due_date:  Mon, 25 Sep 2017 00:00:00 GMT\n",
      "--------------------------------------------------\n",
      "cac2172430424323b66d526622417e0f\n",
      "max_limit:  1000.0\n",
      "free_limit:  800.0\n",
      "due_date:  Wed, 20 Sep 2017 00:00:00 GMT\n",
      "--------------------------------------------------\n",
      "280e3abd60a748ed8f0d75d060397ad9\n",
      "max_limit:  500.0\n",
      "free_limit:  0.0\n",
      "due_date:  Wed, 13 Sep 2017 00:00:00 GMT\n",
      "--------------------------------------------------\n",
      "370646ebe5424eac801e2d32d4557bfe\n",
      "max_limit:  550.0\n",
      "free_limit:  500.0\n",
      "due_date:  Wed, 13 Sep 2017 00:00:00 GMT\n",
      "--------------------------------------------------\n",
      "f7ae1b43d9144283bf738515bac2c5ab\n",
      "max_limit:  1000.0\n",
      "free_limit:  1000.0\n",
      "due_date:  Sun, 03 Sep 2017 00:00:00 GMT\n",
      "--------------------------------------------------\n"
     ]
    }
   ],
   "source": [
    "get_cards_status()"
   ]
  },
  {
   "cell_type": "markdown",
   "metadata": {},
   "source": [
    "If trying to pay more than a card can receive we get an error:"
   ]
  },
  {
   "cell_type": "code",
   "execution_count": 56,
   "metadata": {
    "ExecuteTime": {
     "end_time": "2017-08-29T23:22:52.616279Z",
     "start_time": "2017-08-29T23:22:52.590430Z"
    }
   },
   "outputs": [
    {
     "name": "stdout",
     "output_type": "stream",
     "text": [
      "{'error': 'This payment exceeds maximum card limit'}\n"
     ]
    }
   ],
   "source": [
    "r = req.post(api('wallet/cards/280e3abd60a748ed8f0d75d060397ad9/pay'), data=dict(value=800.0), headers=headers)\n",
    "purchase = r.json()\n",
    "print(purchase)"
   ]
  },
  {
   "cell_type": "code",
   "execution_count": null,
   "metadata": {
    "collapsed": true
   },
   "outputs": [],
   "source": []
  }
 ],
 "metadata": {
  "kernelspec": {
   "display_name": "Python 3",
   "language": "python",
   "name": "python3"
  },
  "language_info": {
   "codemirror_mode": {
    "name": "ipython",
    "version": 3
   },
   "file_extension": ".py",
   "mimetype": "text/x-python",
   "name": "python",
   "nbconvert_exporter": "python",
   "pygments_lexer": "ipython3",
   "version": "3.5.3"
  },
  "latex_envs": {
   "LaTeX_envs_menu_present": true,
   "autocomplete": true,
   "bibliofile": "biblio.bib",
   "cite_by": "apalike",
   "current_citInitial": 1,
   "eqLabelWithNumbers": true,
   "eqNumInitial": 1,
   "hotkeys": {
    "equation": "Ctrl-E",
    "itemize": "Ctrl-I"
   },
   "labels_anchors": false,
   "latex_user_defs": false,
   "report_style_numbering": false,
   "user_envs_cfg": false
  },
  "toc": {
   "colors": {
    "hover_highlight": "#DAA520",
    "navigate_num": "#000000",
    "navigate_text": "#333333",
    "running_highlight": "#FF0000",
    "selected_highlight": "#FFD700",
    "sidebar_border": "#EEEEEE",
    "wrapper_background": "#FFFFFF"
   },
   "moveMenuLeft": true,
   "nav_menu": {
    "height": "84px",
    "width": "252px"
   },
   "navigate_menu": true,
   "number_sections": true,
   "sideBar": true,
   "threshold": 4,
   "toc_cell": false,
   "toc_section_display": "block",
   "toc_window_display": false,
   "widenNotebook": false
  },
  "varInspector": {
   "cols": {
    "lenName": 16,
    "lenType": 16,
    "lenVar": 40
   },
   "kernels_config": {
    "python": {
     "delete_cmd_postfix": "",
     "delete_cmd_prefix": "del ",
     "library": "var_list.py",
     "varRefreshCmd": "print(var_dic_list())"
    },
    "r": {
     "delete_cmd_postfix": ") ",
     "delete_cmd_prefix": "rm(",
     "library": "var_list.r",
     "varRefreshCmd": "cat(var_dic_list()) "
    }
   },
   "types_to_exclude": [
    "module",
    "function",
    "builtin_function_or_method",
    "instance",
    "_Feature"
   ],
   "window_display": false
  }
 },
 "nbformat": 4,
 "nbformat_minor": 2
}
